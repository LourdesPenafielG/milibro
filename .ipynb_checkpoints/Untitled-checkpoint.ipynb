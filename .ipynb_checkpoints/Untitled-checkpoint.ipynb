{
 "cells": [
  {
   "cell_type": "code",
   "execution_count": 1,
   "id": "0f5c455e-ab8a-4bef-ab19-0294bf416a7d",
   "metadata": {},
   "outputs": [
    {
     "name": "stdout",
     "output_type": "stream",
     "text": [
      "Menú inicial\n"
     ]
    }
   ],
   "source": [
    "print(\"Menú inicial\")"
   ]
  },
  {
   "cell_type": "markdown",
   "id": "d1307c60-7d95-4f72-b1b9-619bbeb8db9e",
   "metadata": {},
   "source": [
    "- [Página 1](Untitled1.ipynb)\n",
    "- [Página 2](Untitled2.ipynb)\n",
    "- [Página 3](Untitled3.ipynb)\n",
    "- [Página 4](Untitled4.ipynb)"
   ]
  }
 ],
 "metadata": {
  "kernelspec": {
   "display_name": "Python 3 (ipykernel)",
   "language": "python",
   "name": "python3"
  },
  "language_info": {
   "codemirror_mode": {
    "name": "ipython",
    "version": 3
   },
   "file_extension": ".py",
   "mimetype": "text/x-python",
   "name": "python",
   "nbconvert_exporter": "python",
   "pygments_lexer": "ipython3",
   "version": "3.12.0"
  }
 },
 "nbformat": 4,
 "nbformat_minor": 5
}
