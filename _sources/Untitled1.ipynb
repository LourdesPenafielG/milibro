{
 "cells": [
  {
   "cell_type": "markdown",
   "id": "d3b71cf1-fb1c-4ffa-a461-5e5a57e2a888",
   "metadata": {},
   "source": [
    "# Página 1"
   ]
  },
  {
   "cell_type": "markdown",
   "id": "c6899040-50a4-4ed2-ba1e-9e88e6e79670",
   "metadata": {},
   "source": [
    "# Datos Personales\n",
    "Mi nombre es Lourdes Peñafiel y aquí encontrarás información sobre mí."
   ]
  },
  {
   "cell_type": "markdown",
   "id": "0e200ab4-5fc1-470e-999d-05cc28012db8",
   "metadata": {},
   "source": [
    "## Información de Contacto\n",
    "- Correo Electrónico: lbpenafiel@utpl.edu.ec\n",
    "- Ubicación: Guamani-Sur de Quito\n",
    "- Profesión: Ingeniera en Arquitectura y Calidad"
   ]
  },
  {
   "cell_type": "markdown",
   "id": "a147ac62-0210-4567-a1dc-0c5484d93587",
   "metadata": {},
   "source": [
    "## Foto de Perfil\n",
    "![Foto de Perfil](identidad.jpg)"
   ]
  },
  {
   "cell_type": "code",
   "execution_count": null,
   "id": "53daa7bb-3cc7-4e22-8659-c7bbe1fdaf4a",
   "metadata": {},
   "outputs": [],
   "source": []
  }
 ],
 "metadata": {
  "kernelspec": {
   "display_name": "Python 3 (ipykernel)",
   "language": "python",
   "name": "python3"
  },
  "language_info": {
   "codemirror_mode": {
    "name": "ipython",
    "version": 3
   },
   "file_extension": ".py",
   "mimetype": "text/x-python",
   "name": "python",
   "nbconvert_exporter": "python",
   "pygments_lexer": "ipython3",
   "version": "3.12.0"
  }
 },
 "nbformat": 4,
 "nbformat_minor": 5
}
