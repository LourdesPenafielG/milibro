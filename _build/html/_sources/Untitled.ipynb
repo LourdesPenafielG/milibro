{
 "cells": [
  {
   "cell_type": "markdown",
   "id": "db7b4c2d-3f88-4a88-aa86-c11ae113b1d7",
   "metadata": {},
   "source": [
    "## <center>BIENVENIDOS</center>"
   ]
  },
  {
   "cell_type": "markdown",
   "id": "ebea1360-dc8a-4977-8812-913c387e7fad",
   "metadata": {},
   "source": [
    "# MENÙ INICIAL"
   ]
  },
  {
   "cell_type": "markdown",
   "id": "0b7eeae3-6a27-4200-aa8d-be8adc07c7db",
   "metadata": {},
   "source": [
    "Ingresa a las siguientes pàginas y conoceme."
   ]
  },
  {
   "cell_type": "markdown",
   "id": "d1307c60-7d95-4f72-b1b9-619bbeb8db9e",
   "metadata": {},
   "source": [
    "- [Página 1](Untitled1.ipynb)\n",
    "- [Página 2](Untitled2.ipynb)\n",
    "- [Página 3](Untitled3.ipynb)\n",
    "- [Página 4](Untitled4.ipynb)"
   ]
  }
 ],
 "metadata": {
  "kernelspec": {
   "display_name": "Python 3 (ipykernel)",
   "language": "python",
   "name": "python3"
  },
  "language_info": {
   "codemirror_mode": {
    "name": "ipython",
    "version": 3
   },
   "file_extension": ".py",
   "mimetype": "text/x-python",
   "name": "python",
   "nbconvert_exporter": "python",
   "pygments_lexer": "ipython3",
   "version": "3.12.0"
  }
 },
 "nbformat": 4,
 "nbformat_minor": 5
}
