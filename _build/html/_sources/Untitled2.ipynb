{
 "cells": [
  {
   "cell_type": "markdown",
   "id": "b91305b7-b437-4300-8b14-3740265daab6",
   "metadata": {},
   "source": [
    "# Página 2\r\n"
   ]
  },
  {
   "cell_type": "markdown",
   "id": "c9c4519c-4a69-499a-bd35-6fad46ab35ab",
   "metadata": {},
   "source": [
    "<p style=\"font-size:20px\">\"El éxito no es la clave de la felicidad. La felicidad es la clave del éxito. Si amas lo que haces, tendrás éxito.\" - Albert Schweitzer</p>"
   ]
  },
  {
   "cell_type": "markdown",
   "id": "a4c50ea9-bf7d-4a10-8dfe-b44c8a9d99af",
   "metadata": {},
   "source": [
    "![Foto de Perfil](utiliza.png)"
   ]
  },
  {
   "cell_type": "code",
   "execution_count": null,
   "id": "cf4d34c6-c2a6-4c3f-999f-9aa82988d6e6",
   "metadata": {},
   "outputs": [],
   "source": []
  }
 ],
 "metadata": {
  "kernelspec": {
   "display_name": "Python 3 (ipykernel)",
   "language": "python",
   "name": "python3"
  },
  "language_info": {
   "codemirror_mode": {
    "name": "ipython",
    "version": 3
   },
   "file_extension": ".py",
   "mimetype": "text/x-python",
   "name": "python",
   "nbconvert_exporter": "python",
   "pygments_lexer": "ipython3",
   "version": "3.12.0"
  }
 },
 "nbformat": 4,
 "nbformat_minor": 5
}
