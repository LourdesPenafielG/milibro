{
 "cells": [
  {
   "cell_type": "markdown",
   "id": "4ab75942-747d-46cf-af95-8e61896432d7",
   "metadata": {},
   "source": [
    "# Página 4\r\n"
   ]
  },
  {
   "cell_type": "markdown",
   "id": "1fb747ef-7356-4340-9807-c9473908a404",
   "metadata": {},
   "source": [
    "<div class=\"alert alert-primary\" role=\"alert\">\n",
    "  <h4 class=\"alert-heading\">CONCLUSION</h4>\n",
    "  <p>En resumen, Jupyter Notebook es una herramienta esencial para la programación interactiva, el análisis de datos, la comunicación técnica y la colaboración en el mundo moderno. Su versatilidad y facilidad de uso lo convierten en una elección popular entre científicos de datos, ingenieros, investigadores y educadores.</p>\n",
    "</div>"
   ]
  }
 ],
 "metadata": {
  "kernelspec": {
   "display_name": "Python 3 (ipykernel)",
   "language": "python",
   "name": "python3"
  },
  "language_info": {
   "codemirror_mode": {
    "name": "ipython",
    "version": 3
   },
   "file_extension": ".py",
   "mimetype": "text/x-python",
   "name": "python",
   "nbconvert_exporter": "python",
   "pygments_lexer": "ipython3",
   "version": "3.12.0"
  }
 },
 "nbformat": 4,
 "nbformat_minor": 5
}