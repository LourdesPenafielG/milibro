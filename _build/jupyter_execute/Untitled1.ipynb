{
 "cells": [
  {
   "cell_type": "markdown",
   "id": "92fea83a-e9d0-4f1c-8314-263d3dbe0c45",
   "metadata": {},
   "source": [
    "<p align=\"center\"><font size=\"5\" color=\"blue\">Página 1</font></p>"
   ]
  },
  {
   "cell_type": "markdown",
   "id": "c6899040-50a4-4ed2-ba1e-9e88e6e79670",
   "metadata": {},
   "source": [
    "# Datos Personales\n",
    "Mi nombre es Lourdes Belen Peñafiel Garcia y aquí encontrarás información sobre mí."
   ]
  },
  {
   "cell_type": "markdown",
   "id": "0e200ab4-5fc1-470e-999d-05cc28012db8",
   "metadata": {},
   "source": [
    "## Información de Contacto\n",
    "\n",
    "- Correo Electrónico: lbpenafiel@utpl.edu.ec\n",
    "\n",
    "- Ubicación: Guamani-Sur de Quito\n",
    "  \n",
    "- Profesión: Ingeniera en Arquitectura y Calidad\n",
    "\n",
    "- Idioma: Ingles/Español\n",
    "\n",
    "- Ciudadania: Ecuatoriana"
   ]
  },
  {
   "cell_type": "markdown",
   "id": "a147ac62-0210-4567-a1dc-0c5484d93587",
   "metadata": {},
   "source": [
    "## Repositorio Github\n",
    "https://github.com/LourdesPenafielG/milibro\r\n"
   ]
  },
  {
   "cell_type": "code",
   "execution_count": null,
   "id": "fde91077-e0d2-4928-9572-aa4eef5f796d",
   "metadata": {},
   "outputs": [],
   "source": []
  }
 ],
 "metadata": {
  "kernelspec": {
   "display_name": "Python 3 (ipykernel)",
   "language": "python",
   "name": "python3"
  },
  "language_info": {
   "codemirror_mode": {
    "name": "ipython",
    "version": 3
   },
   "file_extension": ".py",
   "mimetype": "text/x-python",
   "name": "python",
   "nbconvert_exporter": "python",
   "pygments_lexer": "ipython3",
   "version": "3.12.0"
  }
 },
 "nbformat": 4,
 "nbformat_minor": 5
}