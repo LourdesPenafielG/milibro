{
 "cells": [
  {
   "cell_type": "markdown",
   "id": "3d59012f-01d5-4155-8d08-8264ffb38883",
   "metadata": {},
   "source": [
    "# Página 3\r\n"
   ]
  },
  {
   "cell_type": "markdown",
   "id": "5883000f-b013-4a40-8160-e1eb5e37e063",
   "metadata": {},
   "source": [
    "<table class=\"table table-striped table-bordered\">\n",
    "    <thead class=\"thead-dark\">\n",
    "        <tr>\n",
    "            <th>Ciudad</th>\n",
    "            <th>Edad</th>\n",
    "            <th>Color Favorito</th>\n",
    "        </tr>\n",
    "    </thead>\n",
    "    <tbody>\n",
    "        <tr>\n",
    "            <td>Quito</td>\n",
    "            <td>27</td>\n",
    "            <td>azul</td>\n",
    "        </tr>\n",
    "    </tbody>\n",
    "</table>\n"
   ]
  },
  {
   "cell_type": "markdown",
   "id": "f251bce0-c251-4d25-abc6-982f87eddea6",
   "metadata": {},
   "source": [
    "![Foto de Perfil](retrato.jpg)"
   ]
  },
  {
   "cell_type": "code",
   "execution_count": null,
   "id": "8500a560-d640-4956-a305-5fe75f016c7c",
   "metadata": {},
   "outputs": [],
   "source": []
  }
 ],
 "metadata": {
  "kernelspec": {
   "display_name": "Python 3 (ipykernel)",
   "language": "python",
   "name": "python3"
  },
  "language_info": {
   "codemirror_mode": {
    "name": "ipython",
    "version": 3
   },
   "file_extension": ".py",
   "mimetype": "text/x-python",
   "name": "python",
   "nbconvert_exporter": "python",
   "pygments_lexer": "ipython3",
   "version": "3.12.0"
  }
 },
 "nbformat": 4,
 "nbformat_minor": 5
}
